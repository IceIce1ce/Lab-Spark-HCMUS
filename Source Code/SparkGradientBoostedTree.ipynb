{
  "nbformat": 4,
  "nbformat_minor": 0,
  "metadata": {
    "colab": {
      "name": "SparkGradientBoostedTree.ipynb",
      "provenance": [],
      "collapsed_sections": []
    },
    "kernelspec": {
      "name": "python3",
      "display_name": "Python 3"
    },
    "language_info": {
      "name": "python"
    },
    "accelerator": "TPU"
  },
  "cells": [
    {
      "cell_type": "code",
      "metadata": {
        "id": "6joJiUq6x5N0"
      },
      "source": [
        "!apt-get install openjdk-8-jdk-headless -qq > /dev/null\n",
        "!wget -q https://www-us.apache.org/dist/spark/spark-3.1.1/spark-3.1.1-bin-hadoop2.7.tgz\n",
        "!tar xf spark-3.1.1-bin-hadoop2.7.tgz"
      ],
      "execution_count": null,
      "outputs": []
    },
    {
      "cell_type": "code",
      "metadata": {
        "colab": {
          "base_uri": "https://localhost:8080/"
        },
        "id": "WyhRMpGYyQO6",
        "outputId": "61ef8ee4-2f4d-4c01-c13a-5ebbe9584e2c"
      },
      "source": [
        "!pip install -q findspark\n",
        "!pip install pyspark"
      ],
      "execution_count": null,
      "outputs": [
        {
          "output_type": "stream",
          "text": [
            "Collecting pyspark\n",
            "\u001b[?25l  Downloading https://files.pythonhosted.org/packages/45/b0/9d6860891ab14a39d4bddf80ba26ce51c2f9dc4805e5c6978ac0472c120a/pyspark-3.1.1.tar.gz (212.3MB)\n",
            "\u001b[K     |████████████████████████████████| 212.3MB 69kB/s \n",
            "\u001b[?25hCollecting py4j==0.10.9\n",
            "\u001b[?25l  Downloading https://files.pythonhosted.org/packages/9e/b6/6a4fb90cd235dc8e265a6a2067f2a2c99f0d91787f06aca4bcf7c23f3f80/py4j-0.10.9-py2.py3-none-any.whl (198kB)\n",
            "\u001b[K     |████████████████████████████████| 204kB 49.6MB/s \n",
            "\u001b[?25hBuilding wheels for collected packages: pyspark\n",
            "  Building wheel for pyspark (setup.py) ... \u001b[?25l\u001b[?25hdone\n",
            "  Created wheel for pyspark: filename=pyspark-3.1.1-py2.py3-none-any.whl size=212767604 sha256=44f883e31bdcef32f938367d0dcf0d2f41347d365b026c9368106d0948f3282c\n",
            "  Stored in directory: /root/.cache/pip/wheels/0b/90/c0/01de724414ef122bd05f056541fb6a0ecf47c7ca655f8b3c0f\n",
            "Successfully built pyspark\n",
            "Installing collected packages: py4j, pyspark\n",
            "Successfully installed py4j-0.10.9 pyspark-3.1.1\n"
          ],
          "name": "stdout"
        }
      ]
    },
    {
      "cell_type": "code",
      "metadata": {
        "id": "tvmJbThjyiIn"
      },
      "source": [
        "import os\n",
        "\n",
        "os.environ[\"JAVA_HOME\"] = \"/usr/lib/jvm/java-8-openjdk-amd64\"\n",
        "os.environ[\"SPARK_HOME\"] = \"/content/spark-3.1.1-bin-hadoop2.7\""
      ],
      "execution_count": null,
      "outputs": []
    },
    {
      "cell_type": "code",
      "metadata": {
        "id": "4hfiDFLPykzv"
      },
      "source": [
        "import findspark\n",
        "findspark.init()\n",
        "import pyspark\n",
        "from pyspark.sql import SparkSession"
      ],
      "execution_count": null,
      "outputs": []
    },
    {
      "cell_type": "code",
      "metadata": {
        "colab": {
          "base_uri": "https://localhost:8080/"
        },
        "id": "tXSyDaIoyo-g",
        "outputId": "0e40bda7-4d9f-4ad6-a4b3-b329ce01bf1d"
      },
      "source": [
        "from pyspark.ml import Pipeline\n",
        "from pyspark.ml.classification import GBTClassifier\n",
        "from pyspark.ml.feature import IndexToString, StringIndexer, VectorIndexer, VectorAssembler\n",
        "from pyspark.ml.evaluation import MulticlassClassificationEvaluator\n",
        "from pyspark.python.pyspark.shell import spark\n",
        "from pyspark.ml.feature import OneHotEncoder, StringIndexer, VectorAssembler\n",
        "\n",
        "df = spark.read.options(delimiter=',', header=True).csv('/content/bank.csv')\n",
        "df = df.withColumn(\"AG\", df[\"age\"] - 0).withColumn(\"BL\", df[\"balance\"] - 0).\\\n",
        "    withColumn(\"DU\", df[\"duration\"] - 0).withColumn(\"CA\", df[\"campaign\"] - 0).withColumn(\"PD\", df[\"pdays\"] - 0).withColumn(\"PR\", df[\"previous\"] - 0)\n",
        "df.show(5)"
      ],
      "execution_count": null,
      "outputs": [
        {
          "output_type": "stream",
          "text": [
            "Welcome to\n",
            "      ____              __\n",
            "     / __/__  ___ _____/ /__\n",
            "    _\\ \\/ _ \\/ _ `/ __/  '_/\n",
            "   /__ / .__/\\_,_/_/ /_/\\_\\   version 3.1.1\n",
            "      /_/\n",
            "\n",
            "Using Python version 3.7.10 (default, Feb 20 2021 21:17:23)\n",
            "Spark context Web UI available at http://92b7f2778966:4040\n",
            "Spark context available as 'sc' (master = local[*], app id = local-1618888733847).\n",
            "SparkSession available as 'spark'.\n",
            "+---+----------+-------+---------+-------+-------+-------+----+-------+---+-----+--------+--------+-----+--------+--------+-------+----+------+------+---+----+---+\n",
            "|age|       job|marital|education|default|balance|housing|loan|contact|day|month|duration|campaign|pdays|previous|poutcome|deposit|  AG|    BL|    DU| CA|  PD| PR|\n",
            "+---+----------+-------+---------+-------+-------+-------+----+-------+---+-----+--------+--------+-----+--------+--------+-------+----+------+------+---+----+---+\n",
            "| 59|    admin.|married|secondary|     no|   2343|    yes|  no|unknown|  5|  may|    1042|       1|   -1|       0| unknown|    yes|59.0|2343.0|1042.0|1.0|-1.0|0.0|\n",
            "| 56|    admin.|married|secondary|     no|     45|     no|  no|unknown|  5|  may|    1467|       1|   -1|       0| unknown|    yes|56.0|  45.0|1467.0|1.0|-1.0|0.0|\n",
            "| 41|technician|married|secondary|     no|   1270|    yes|  no|unknown|  5|  may|    1389|       1|   -1|       0| unknown|    yes|41.0|1270.0|1389.0|1.0|-1.0|0.0|\n",
            "| 55|  services|married|secondary|     no|   2476|    yes|  no|unknown|  5|  may|     579|       1|   -1|       0| unknown|    yes|55.0|2476.0| 579.0|1.0|-1.0|0.0|\n",
            "| 54|    admin.|married| tertiary|     no|    184|     no|  no|unknown|  5|  may|     673|       2|   -1|       0| unknown|    yes|54.0| 184.0| 673.0|2.0|-1.0|0.0|\n",
            "+---+----------+-------+---------+-------+-------+-------+----+-------+---+-----+--------+--------+-----+--------+--------+-------+----+------+------+---+----+---+\n",
            "only showing top 5 rows\n",
            "\n"
          ],
          "name": "stdout"
        }
      ]
    },
    {
      "cell_type": "code",
      "metadata": {
        "colab": {
          "base_uri": "https://localhost:8080/"
        },
        "id": "IQtk5aauK3-K",
        "outputId": "b384356c-b0f1-4c28-9e68-508d3fe8c307"
      },
      "source": [
        "df = df.select('age', 'job', 'marital', 'education', 'default', 'balance', 'housing', 'loan', 'contact', 'duration', 'campaign', 'pdays', 'previous', 'poutcome', 'deposit'\n",
        ", 'AG', 'BL', 'DU', 'CA', 'PD', 'PR')\n",
        "cols = df.columns\n",
        "df.show(5)"
      ],
      "execution_count": null,
      "outputs": [
        {
          "output_type": "stream",
          "text": [
            "+---+----------+-------+---------+-------+-------+-------+----+-------+--------+--------+-----+--------+--------+-------+----+------+------+---+----+---+\n",
            "|age|       job|marital|education|default|balance|housing|loan|contact|duration|campaign|pdays|previous|poutcome|deposit|  AG|    BL|    DU| CA|  PD| PR|\n",
            "+---+----------+-------+---------+-------+-------+-------+----+-------+--------+--------+-----+--------+--------+-------+----+------+------+---+----+---+\n",
            "| 59|    admin.|married|secondary|     no|   2343|    yes|  no|unknown|    1042|       1|   -1|       0| unknown|    yes|59.0|2343.0|1042.0|1.0|-1.0|0.0|\n",
            "| 56|    admin.|married|secondary|     no|     45|     no|  no|unknown|    1467|       1|   -1|       0| unknown|    yes|56.0|  45.0|1467.0|1.0|-1.0|0.0|\n",
            "| 41|technician|married|secondary|     no|   1270|    yes|  no|unknown|    1389|       1|   -1|       0| unknown|    yes|41.0|1270.0|1389.0|1.0|-1.0|0.0|\n",
            "| 55|  services|married|secondary|     no|   2476|    yes|  no|unknown|     579|       1|   -1|       0| unknown|    yes|55.0|2476.0| 579.0|1.0|-1.0|0.0|\n",
            "| 54|    admin.|married| tertiary|     no|    184|     no|  no|unknown|     673|       2|   -1|       0| unknown|    yes|54.0| 184.0| 673.0|2.0|-1.0|0.0|\n",
            "+---+----------+-------+---------+-------+-------+-------+----+-------+--------+--------+-----+--------+--------+-------+----+------+------+---+----+---+\n",
            "only showing top 5 rows\n",
            "\n"
          ],
          "name": "stdout"
        }
      ]
    },
    {
      "cell_type": "code",
      "metadata": {
        "id": "7N0zdIU0zBY3"
      },
      "source": [
        "categoricalColumns = ['job', 'marital', 'education', 'default', 'housing', 'loan', 'contact', 'poutcome']\n",
        "stages = []\n",
        "for categoricalCol in categoricalColumns:\n",
        "    stringIndexer = StringIndexer(inputCol=categoricalCol, outputCol='indexed' + categoricalCol)\n",
        "    encoder = OneHotEncoder(inputCols=[stringIndexer.getOutputCol()], outputCols=[categoricalCol + \"classVec\"])\n",
        "    stages += [stringIndexer, encoder]\n",
        "labelIndexerFrequency = StringIndexer(inputCol = 'deposit', outputCol = 'label')\n",
        "stages += [labelIndexerFrequency]\n",
        "numericCols = ['AG', 'BL', 'DU', 'CA', 'PD', 'PR']\n",
        "assemblerInputs = [c + \"classVec\" for c in categoricalColumns] + numericCols\n",
        "assembler = VectorAssembler(inputCols=assemblerInputs, outputCol=\"features\")\n",
        "stages += [assembler]"
      ],
      "execution_count": null,
      "outputs": []
    },
    {
      "cell_type": "code",
      "metadata": {
        "colab": {
          "base_uri": "https://localhost:8080/"
        },
        "id": "sAxupOATzCfd",
        "outputId": "d91c7966-4060-4c15-8d80-04c2badadd11"
      },
      "source": [
        "from pyspark.ml import Pipeline\n",
        "\n",
        "# Chain indexers and tree in a Pipeline\n",
        "pipeline = Pipeline(stages=stages)\n",
        "pipelineModel = pipeline.fit(df)\n",
        "df = pipelineModel.transform(df)\n",
        "selectedCols = ['label', 'features'] + cols\n",
        "df = df.select(selectedCols)\n",
        "df.show(5)"
      ],
      "execution_count": null,
      "outputs": [
        {
          "output_type": "stream",
          "text": [
            "+-----+--------------------+---+----------+-------+---------+-------+-------+-------+----+-------+--------+--------+-----+--------+--------+-------+----+------+------+---+----+---+\n",
            "|label|            features|age|       job|marital|education|default|balance|housing|loan|contact|duration|campaign|pdays|previous|poutcome|deposit|  AG|    BL|    DU| CA|  PD| PR|\n",
            "+-----+--------------------+---+----------+-------+---------+-------+-------+-------+----+-------+--------+--------+-----+--------+--------+-------+----+------+------+---+----+---+\n",
            "|  1.0|(30,[3,11,13,16,1...| 59|    admin.|married|secondary|     no|   2343|    yes|  no|unknown|    1042|       1|   -1|       0| unknown|    yes|59.0|2343.0|1042.0|1.0|-1.0|0.0|\n",
            "|  1.0|(30,[3,11,13,16,1...| 56|    admin.|married|secondary|     no|     45|     no|  no|unknown|    1467|       1|   -1|       0| unknown|    yes|56.0|  45.0|1467.0|1.0|-1.0|0.0|\n",
            "|  1.0|(30,[2,11,13,16,1...| 41|technician|married|secondary|     no|   1270|    yes|  no|unknown|    1389|       1|   -1|       0| unknown|    yes|41.0|1270.0|1389.0|1.0|-1.0|0.0|\n",
            "|  1.0|(30,[4,11,13,16,1...| 55|  services|married|secondary|     no|   2476|    yes|  no|unknown|     579|       1|   -1|       0| unknown|    yes|55.0|2476.0| 579.0|1.0|-1.0|0.0|\n",
            "|  1.0|(30,[3,11,14,16,1...| 54|    admin.|married| tertiary|     no|    184|     no|  no|unknown|     673|       2|   -1|       0| unknown|    yes|54.0| 184.0| 673.0|2.0|-1.0|0.0|\n",
            "+-----+--------------------+---+----------+-------+---------+-------+-------+-------+----+-------+--------+--------+-----+--------+--------+-------+----+------+------+---+----+---+\n",
            "only showing top 5 rows\n",
            "\n"
          ],
          "name": "stdout"
        }
      ]
    },
    {
      "cell_type": "code",
      "metadata": {
        "colab": {
          "base_uri": "https://localhost:8080/"
        },
        "id": "Xms54_20zGvX",
        "outputId": "54283063-5c0c-4f73-9459-86260d45b759"
      },
      "source": [
        "from pyspark.ml.evaluation import BinaryClassificationEvaluator\n",
        "\n",
        "# https://spark.apache.org/docs/latest/ml-classification-regression.html#gradient-boosted-tree-classifier\n",
        "# split to 70-30\n",
        "(trainingData, testData) = df.randomSplit([0.7, 0.3], seed=2021)\n",
        "# Train a Gradient Boosted Tree model\n",
        "gbt = GBTClassifier(labelCol=\"label\", featuresCol=\"features\", maxIter=10)\n",
        "# Train model. This also runs the indexers.\n",
        "model = gbt.fit(trainingData)\n",
        "# Make predictions.\n",
        "predictions = model.transform(testData)\n",
        "# Select example rows to display.\n",
        "predictions.select('age', 'job', 'label', 'prediction', 'probability').show(5)\n",
        "evaluator = BinaryClassificationEvaluator()\n",
        "accuracy = evaluator.evaluate(predictions)\n",
        "print(\"Gradient Boosted Tree - Test Accuracy = %g\" % (accuracy))\n",
        "print(\"Gradient Boosted Tree - Test Error = %g\" % (1.0 - accuracy))"
      ],
      "execution_count": null,
      "outputs": [
        {
          "output_type": "stream",
          "text": [
            "+---+----------+-----+----------+--------------------+\n",
            "|age|       job|label|prediction|         probability|\n",
            "+---+----------+-----+----------+--------------------+\n",
            "| 35|management|  0.0|       0.0|[0.51778009602793...|\n",
            "| 37|management|  0.0|       0.0|[0.86696819810124...|\n",
            "| 42|management|  0.0|       0.0|[0.92164589827077...|\n",
            "| 42|management|  0.0|       1.0|[0.42031485907003...|\n",
            "| 51|management|  0.0|       0.0|[0.91377369017576...|\n",
            "+---+----------+-----+----------+--------------------+\n",
            "only showing top 5 rows\n",
            "\n",
            "Gradient Boosted Tree - Test Accuracy = 0.884111\n",
            "Gradient Boosted Tree - Test Error = 0.115889\n"
          ],
          "name": "stdout"
        }
      ]
    },
    {
      "cell_type": "code",
      "metadata": {
        "id": "szKkf4UDVHHI"
      },
      "source": [
        "# save model\n",
        "model.save('/content/myModel')"
      ],
      "execution_count": null,
      "outputs": []
    }
  ]
}