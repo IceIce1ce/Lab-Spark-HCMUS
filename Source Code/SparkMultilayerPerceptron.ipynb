{
  "nbformat": 4,
  "nbformat_minor": 0,
  "metadata": {
    "colab": {
      "name": "SparkMultilayerPerceptron.ipynb",
      "provenance": [],
      "collapsed_sections": []
    },
    "kernelspec": {
      "name": "python3",
      "display_name": "Python 3"
    },
    "language_info": {
      "name": "python"
    },
    "accelerator": "TPU"
  },
  "cells": [
    {
      "cell_type": "code",
      "metadata": {
        "id": "B2FjOR8wfAl2"
      },
      "source": [
        "!apt-get install openjdk-8-jdk-headless -qq > /dev/null\n",
        "!wget -q https://www-us.apache.org/dist/spark/spark-3.1.1/spark-3.1.1-bin-hadoop2.7.tgz\n",
        "!tar xf spark-3.1.1-bin-hadoop2.7.tgz"
      ],
      "execution_count": null,
      "outputs": []
    },
    {
      "cell_type": "code",
      "metadata": {
        "colab": {
          "base_uri": "https://localhost:8080/"
        },
        "id": "m7tYNKNifUOF",
        "outputId": "6cf4edfb-8522-4565-9a65-f53d3f38164d"
      },
      "source": [
        "!pip install -q findspark\n",
        "!pip install pyspark"
      ],
      "execution_count": null,
      "outputs": [
        {
          "output_type": "stream",
          "text": [
            "Requirement already satisfied: pyspark in /usr/local/lib/python3.7/dist-packages (3.1.1)\n",
            "Requirement already satisfied: py4j==0.10.9 in /usr/local/lib/python3.7/dist-packages (from pyspark) (0.10.9)\n"
          ],
          "name": "stdout"
        }
      ]
    },
    {
      "cell_type": "code",
      "metadata": {
        "id": "PKhCFt_zfl1O"
      },
      "source": [
        "import os\n",
        "\n",
        "os.environ[\"JAVA_HOME\"] = \"/usr/lib/jvm/java-8-openjdk-amd64\"\n",
        "os.environ[\"SPARK_HOME\"] = \"/content/spark-3.1.1-bin-hadoop2.7\""
      ],
      "execution_count": null,
      "outputs": []
    },
    {
      "cell_type": "code",
      "metadata": {
        "colab": {
          "base_uri": "https://localhost:8080/"
        },
        "id": "KGIbk2FWfqih",
        "outputId": "b6e0e3c8-d9f2-4fcf-9b1b-305c01f08448"
      },
      "source": [
        "import findspark\n",
        "findspark.init()\n",
        "import pyspark\n",
        "from pyspark.sql import SparkSession\n",
        "\n",
        "spark = SparkSession.builder.getOrCreate()\n",
        "df = spark.sql(\"select 'spark' as hello \")\n",
        "df.show()"
      ],
      "execution_count": null,
      "outputs": [
        {
          "output_type": "stream",
          "text": [
            "+-----+\n",
            "|hello|\n",
            "+-----+\n",
            "|spark|\n",
            "+-----+\n",
            "\n"
          ],
          "name": "stdout"
        }
      ]
    },
    {
      "cell_type": "code",
      "metadata": {
        "colab": {
          "base_uri": "https://localhost:8080/"
        },
        "id": "sDYSW1EnfumL",
        "outputId": "d0dff8da-46de-425a-f3d9-915260aba3ee"
      },
      "source": [
        "from pyspark.ml import Pipeline\n",
        "from pyspark.ml.classification import MultilayerPerceptronClassifier\n",
        "from pyspark.ml.feature import IndexToString, StringIndexer, VectorIndexer, VectorAssembler\n",
        "from pyspark.ml.evaluation import MulticlassClassificationEvaluator\n",
        "from pyspark.python.pyspark.shell import spark\n",
        "\n",
        "# read input and show\n",
        "df = spark.read.options(delimiter=',', header=True).csv('/content/cars.csv')\n",
        "df = df.withColumn(\"WE\", df[\"weight\"] - 0).withColumn(\"label\", df['origin'] - 0).withColumn(\"ACC\", df[\"acceleration\"] - 0).\\\n",
        "    withColumn(\"MOY\", df[\"model year\"] - 0).withColumn(\"HP\", df[\"horsepower\"] - 0)\n",
        "df.show(5)"
      ],
      "execution_count": null,
      "outputs": [
        {
          "output_type": "stream",
          "text": [
            "Welcome to\n",
            "      ____              __\n",
            "     / __/__  ___ _____/ /__\n",
            "    _\\ \\/ _ \\/ _ `/ __/  '_/\n",
            "   /__ / .__/\\_,_/_/ /_/\\_\\   version 3.1.1\n",
            "      /_/\n",
            "\n",
            "Using Python version 3.7.10 (default, Feb 20 2021 21:17:23)\n",
            "Spark context Web UI available at http://f8580c6550f5:4040\n",
            "Spark context available as 'sc' (master = local[*], app id = local-1618845892932).\n",
            "SparkSession available as 'spark'.\n",
            "+---+---------+------------+----------+------+------------+----------+------+--------------------+------+-----+----+----+-----+\n",
            "|mpg|cylinders|displacement|horsepower|weight|acceleration|model year|origin|            car name|    WE|label| ACC| MOY|   HP|\n",
            "+---+---------+------------+----------+------+------------+----------+------+--------------------+------+-----+----+----+-----+\n",
            "| 18|        8|         307|       130|  3504|          12|        70|     1|chevrolet chevell...|3504.0|  1.0|12.0|70.0|130.0|\n",
            "| 15|        8|         350|       165|  3693|        11.5|        70|     1|   buick skylark 320|3693.0|  1.0|11.5|70.0|165.0|\n",
            "| 18|        8|         318|       150|  3436|          11|        70|     1|  plymouth satellite|3436.0|  1.0|11.0|70.0|150.0|\n",
            "| 16|        8|         304|       150|  3433|          12|        70|     1|       amc rebel sst|3433.0|  1.0|12.0|70.0|150.0|\n",
            "| 17|        8|         302|       140|  3449|        10.5|        70|     1|         ford torino|3449.0|  1.0|10.5|70.0|140.0|\n",
            "+---+---------+------------+----------+------+------------+----------+------+--------------------+------+-----+----+----+-----+\n",
            "only showing top 5 rows\n",
            "\n"
          ],
          "name": "stdout"
        }
      ]
    },
    {
      "cell_type": "code",
      "metadata": {
        "colab": {
          "base_uri": "https://localhost:8080/"
        },
        "id": "vWfstKZbgKrt",
        "outputId": "e4e66992-e678-4793-c3f0-89c42cbe6617"
      },
      "source": [
        "# combine column label and distance to new column name features\n",
        "# https://spark.apache.org/docs/latest/ml-features#vectorindexer\n",
        "merge_col = VectorAssembler(inputCols=[\"label\", \"MOY\"], outputCol='features')\n",
        "df = merge_col.transform(df)\n",
        "df.select(\"features\").show(5)"
      ],
      "execution_count": null,
      "outputs": [
        {
          "output_type": "stream",
          "text": [
            "+----------+\n",
            "|  features|\n",
            "+----------+\n",
            "|[1.0,70.0]|\n",
            "|[1.0,70.0]|\n",
            "|[1.0,70.0]|\n",
            "|[1.0,70.0]|\n",
            "|[1.0,70.0]|\n",
            "+----------+\n",
            "only showing top 5 rows\n",
            "\n"
          ],
          "name": "stdout"
        }
      ]
    },
    {
      "cell_type": "code",
      "metadata": {
        "id": "WLVBFwGkgPMp"
      },
      "source": [
        "# create a column indexedLabel mark label with most frequency start from 0.0 (most frequency) to n(least frequency)\n",
        "labelIndexerFrequency = StringIndexer(inputCol=\"label\", outputCol=\"indexedLabel\").fit(df)\n",
        "# use transform(df) to show, not use when run\n",
        "# labelIndexerFrequency = StringIndexer(inputCol=\"label\", outputCol=\"indexedLabel\").fit(df).transform(df)\n",
        "# labelIndexerFrequency.show(5)"
      ],
      "execution_count": null,
      "outputs": []
    },
    {
      "cell_type": "code",
      "metadata": {
        "id": "OyxZJXIggWaL"
      },
      "source": [
        "featureIndexerFrequency = VectorIndexer(inputCol=\"features\", outputCol=\"indexedFeatures\", maxCategories=4).fit(df)"
      ],
      "execution_count": null,
      "outputs": []
    },
    {
      "cell_type": "code",
      "metadata": {
        "colab": {
          "base_uri": "https://localhost:8080/"
        },
        "id": "k31Kl2Sogmkh",
        "outputId": "9d94c0c1-e001-470e-c61b-e763c890816f"
      },
      "source": [
        "# https://spark.apache.org/docs/latest/ml-classification-regression.html#multilayer-perceptron-classifier\n",
        "# split to 70-30\n",
        "(trainingData, testData) = df.randomSplit([0.7, 0.3])\n",
        "# specify layers for the neural network:\n",
        "# input layer of size 2 (features), two intermediate of size 5 and 4\n",
        "# and output of size 3 (classes)\n",
        "layers = [2, 5, 4, 3]\n",
        "# Train a RandomForest model.\n",
        "trainer = MultilayerPerceptronClassifier(maxIter=100, layers=layers, labelCol=\"indexedLabel\", featuresCol=\"indexedFeatures\", blockSize=128, seed=1234)\n",
        "# Convert indexed labels back to original labels.\n",
        "labelConverter = IndexToString(inputCol=\"prediction\", outputCol=\"predictedLabel\", labels=labelIndexerFrequency.labels)\n",
        "# Chain indexers and tree in a Pipeline\n",
        "pipeline = Pipeline(stages=[labelIndexerFrequency, featureIndexerFrequency, trainer, labelConverter])\n",
        "# Train model. This also runs the indexers.\n",
        "model = pipeline.fit(trainingData)\n",
        "# Make predictions.\n",
        "predictions = model.transform(testData)\n",
        "# Select example rows to display.\n",
        "predictions.select(\"predictedLabel\", \"label\", \"features\").show(5)\n",
        "# Select (prediction, true label) and compute test error\n",
        "evaluator = MulticlassClassificationEvaluator(labelCol=\"indexedLabel\", predictionCol=\"prediction\", metricName=\"accuracy\")\n",
        "accuracy = evaluator.evaluate(predictions)\n",
        "print(\"Multilayer Perceptron - Test Accuracy = %g\" % (accuracy))\n",
        "print(\"Multilayer Perceptron - Test Error = %g\" % (1.0 - accuracy))\n",
        "mpModel = model.stages[2]\n",
        "print(mpModel) # summary only"
      ],
      "execution_count": null,
      "outputs": [
        {
          "output_type": "stream",
          "text": [
            "+--------------+-----+----------+\n",
            "|predictedLabel|label|  features|\n",
            "+--------------+-----+----------+\n",
            "|           1.0|  1.0|[1.0,70.0]|\n",
            "|           1.0|  1.0|[1.0,70.0]|\n",
            "|           1.0|  1.0|[1.0,72.0]|\n",
            "|           1.0|  1.0|[1.0,73.0]|\n",
            "|           1.0|  1.0|[1.0,75.0]|\n",
            "+--------------+-----+----------+\n",
            "only showing top 5 rows\n",
            "\n",
            "Multilayer Perceptron - Test Accuracy = 0.838983\n",
            "Multilayer Perceptron - Test Error = 0.161017\n",
            "MultilayerPerceptronClassificationModel: uid=MultilayerPerceptronClassifier_b6e84083ec14, numLayers=4, numClasses=3, numFeatures=2\n"
          ],
          "name": "stdout"
        }
      ]
    }
  ]
}